{
 "cells": [
  {
   "cell_type": "markdown",
   "id": "bd6af602-e38b-4ea5-b61a-4e1fce6227f3",
   "metadata": {},
   "source": [
    "# All missense in dbNSFP5.2 for precomputed score"
   ]
  },
  {
   "cell_type": "code",
   "execution_count": null,
   "id": "84f6f5b8-6b1f-40b0-92b7-0fb3aea4402c",
   "metadata": {},
   "outputs": [],
   "source": [
    "import pandas as pd\n",
    "from tqdm import tqdm\n",
    "\n",
    "chromosomes = list(range(1, 23)) + ['X', 'Y']\n",
    "# chromosomes = ['M']\n",
    "\n",
    "amino_acid = set(['L', 'V', 'K', 'T', 'R', 'I', 'H', 'D', 'Y', 'S', 'Q', 'A', 'G', 'C', 'N', 'E', 'P', 'M', 'F', 'W'])\n",
    "columns_preserve = ['#chr', 'pos(1-based)', 'ref', 'alt', 'aaref', 'aaalt', 'rs_dbSNP', 'hg19_chr', 'hg19_pos(1-based)', 'aapos', 'genename',\n",
    "                    'Ensembl_geneid', 'Ensembl_transcriptid', 'Ensembl_proteinid', 'Uniprot_acc', 'Uniprot_entry', \n",
    "                    'HGVSc_snpEff', 'HGVSp_snpEff', 'HGVSc_VEP', 'HGVSp_VEP', 'MANE', 'cds_strand', 'refcodon', 'codonpos', \n",
    "                    'clinvar_id', 'clinvar_clnsig', 'clinvar_review',\n",
    "                    'SIFT_score',\n",
    "                    'SIFT4G_score',\n",
    "                    'Polyphen2_HDIV_score',\n",
    "                    'Polyphen2_HVAR_score',\n",
    "                    'MutationTaster_score',\n",
    "                    'MutationAssessor_score',\n",
    "                    'PROVEAN_score',\n",
    "                    'VEST4_score',\n",
    "                    'MetaSVM_score',\n",
    "                    'MetaLR_score',\n",
    "                    'MetaRNN_score',\n",
    "                    'M-CAP_score',\n",
    "                    'REVEL_score',\n",
    "                    'MutPred2_score',\n",
    "                    'MVP_score',\n",
    "                    'gMVP_score',\n",
    "                    'MPC_score',\n",
    "                    'PrimateAI_score',\n",
    "                    'DEOGEN2_score',\n",
    "                    'BayesDel_noAF_score',\n",
    "                    'ClinPred_score',\n",
    "                    'LIST-S2_score',\n",
    "                    'VARITY_R_score',\n",
    "                    'ESM1b_score',\n",
    "                    'AlphaMissense_score',\n",
    "                    'PHACTboost_score',\n",
    "                    'MutFormer_score',\n",
    "                    'MutScore_score',\n",
    "                    'Aloft_prob_Tolerant',\n",
    "                    'CADD_phred',\n",
    "                    'DANN_score',\n",
    "                    'fathmm-XF_coding_score',\n",
    "                    'Eigen-PC-raw_coding',\n",
    "                    'GERP++_RS',\n",
    "                    'GERP_91_mammals',\n",
    "                    'phyloP100way_vertebrate',\n",
    "                    'phyloP470way_mammalian',\n",
    "                    'phyloP17way_primate',\n",
    "                    'phastCons100way_vertebrate',\n",
    "                    'phastCons470way_mammalian',\n",
    "                    'phastCons17way_primate',\n",
    "                    'bStatistic']\n",
    "\n",
    "hg38_column = ['#chr', 'pos(1-based)', 'ref', 'alt', \n",
    "               'SIFT_score', 'SIFT4G_score', 'Polyphen2_HDIV_score', 'Polyphen2_HVAR_score', 'MutationTaster_score', 'MutationAssessor_score',\n",
    "               'PROVEAN_score', 'VEST4_score', 'MetaSVM_score', 'MetaLR_score', 'MetaRNN_score', 'M-CAP_score', 'REVEL_score', 'MutPred2_score', \n",
    "               'MVP_score', 'gMVP_score', 'MPC_score', 'PrimateAI_score', 'DEOGEN2_score', 'BayesDel_noAF_score', 'ClinPred_score', 'LIST-S2_score',\n",
    "               'VARITY_R_score', 'ESM1b_score', 'AlphaMissense_score', 'PHACTboost_score', 'MutFormer_score', 'MutScore_score', 'Aloft_prob_Tolerant',\n",
    "               'CADD_phred', 'DANN_score', 'fathmm-XF_coding_score', 'Eigen-PC-raw_coding', 'GERP++_RS', 'GERP_91_mammals', 'phyloP100way_vertebrate',\n",
    "               'phyloP470way_mammalian', 'phyloP17way_primate', 'phastCons100way_vertebrate', 'phastCons470way_mammalian', 'phastCons17way_primate',\n",
    "               'bStatistic']\n",
    "\n",
    "hg19_column = ['hg19_chr', 'hg19_pos(1-based)', 'ref', 'alt'] + hg38_column[4:] \n",
    "\n",
    "group_sets = {\n",
    "    'hg38': (hg38_column, ['#chr', 'pos(1-based)', 'ref', 'alt']),\n",
    "    'hg19': (hg19_column, ['hg19_chr', 'hg19_pos(1-based)', 'ref', 'alt'])\n",
    "}"
   ]
  },
  {
   "cell_type": "code",
   "execution_count": null,
   "id": "e364ab56-d85e-4948-b54d-ed0d9a72c3cd",
   "metadata": {
    "scrolled": true
   },
   "outputs": [],
   "source": [
    "# Get all missense variant from dbNSFP\n",
    "\n",
    "import pandas as pd\n",
    "from tqdm import tqdm\n",
    "\n",
    "for chr_num in chromosomes:\n",
    "    tqdm.write(f\"Chr {chr_num} started\")\n",
    "    \n",
    "    file_path = f'/gpfs/home/pl2948/VariantInterpretation/dbNSFP/dbNSFP5.2a_variant.chr{chr_num}.gz'\n",
    "    df = pd.read_csv(file_path, compression='gzip', sep='\\t', low_memory=False)\n",
    "    df = df[columns_preserve]\n",
    "\n",
    "    df = df[(\n",
    "        (df['aaref'].isin(amino_acid)) & \n",
    "        (df['aaalt'].isin(amino_acid)) & \n",
    "        (df['aaalt']!=df['aaref'])\n",
    "    )].reset_index(drop=True)\n",
    "    \n",
    "    for ver, (column_set, group_keys) in group_sets.items():\n",
    "        df_ver = df[column_set].copy()\n",
    "        df_ver = df_ver[(df_ver[group_keys[0]]!= '.') & (df_ver[group_keys[1]]!= '.')]\n",
    "        df_ver[group_keys[1]] = df_ver[group_keys[1]].astype(int)\n",
    "        \n",
    "        df_ver_sorted = df_ver.sort_values(group_keys).reset_index(drop=True)\n",
    "\n",
    "        merged_rows = []\n",
    "        prev_key = None\n",
    "        current_row = None\n",
    "\n",
    "        for _, row in tqdm(df_ver_sorted.iterrows(), total=len(df_ver_sorted), desc=f\"Processing chr{chr_num} {ver}\"):\n",
    "            key = tuple(row[col] for col in group_keys)\n",
    "            if key != prev_key:\n",
    "                if current_row is not None:\n",
    "                    merged_rows.append(current_row)\n",
    "                current_row = row.copy()\n",
    "                prev_key = key\n",
    "            else:\n",
    "                for col in df_ver.columns:\n",
    "                    if col not in group_keys:\n",
    "                        val = str(row[col])\n",
    "                        current_row[col] = f\"{current_row[col]};{val}\"\n",
    "\n",
    "        if current_row is not None:\n",
    "            merged_rows.append(current_row)\n",
    "\n",
    "        merged_df = pd.DataFrame(merged_rows)\n",
    "\n",
    "        if ver == 'hg38':\n",
    "            merged_df = merged_df.reset_index(drop=True)\n",
    "            merged_df['End'] = merged_df['pos(1-based)']\n",
    "            merged_df.rename(columns={'#chr': '#Chr', 'pos(1-based)': 'Start', 'ref': 'Ref', 'alt': 'Alt'}, inplace=True)\n",
    "        else:\n",
    "            merged_df = merged_df.reset_index(drop=True)\n",
    "            merged_df['End'] = merged_df['hg19_pos(1-based)']\n",
    "            merged_df.rename(columns={'hg19_chr': '#Chr', 'hg19_pos(1-based)': 'Start', 'ref': 'Ref', 'alt': 'Alt'}, inplace=True)\n",
    "\n",
    "        front_columns = ['#Chr', 'Start', 'End', 'Ref', 'Alt']\n",
    "        other_columns = [col for col in merged_df.columns if col not in front_columns]\n",
    "        merged_df = merged_df[front_columns + other_columns]\n",
    "\n",
    "        merged_df.to_csv(\n",
    "            f\"/gpfs/home/pl2948/VariantInterpretation/dbNSFP/{ver}_missense_dbNSFP_chr{chr_num}.csv\",\n",
    "            sep='\\t', \n",
    "            index=False\n",
    "        )\n",
    "        display(merged_df)\n",
    "\n",
    "    tqdm.write(f\"Chr {chr_num} completed\")"
   ]
  },
  {
   "cell_type": "code",
   "execution_count": null,
   "id": "e26c9c8d-271a-416c-b12f-d590dc7c4c04",
   "metadata": {
    "scrolled": true
   },
   "outputs": [],
   "source": [
    "# Get the mean value of all transcript for each single genomic coordinate\n",
    "\n",
    "import pandas as pd\n",
    "from tqdm import tqdm\n",
    "tqdm.pandas()\n",
    "\n",
    "chromosomes = list(range(1, 23)) + ['X', 'Y']\n",
    "\n",
    "tool_list = ['SIFT_score', 'SIFT4G_score', 'Polyphen2_HDIV_score', 'Polyphen2_HVAR_score', 'MutationAssessor_score', 'PROVEAN_score', 'VEST4_score', \n",
    "             'REVEL_score', 'MutPred2_score', 'MPC_score', 'PrimateAI_score', 'BayesDel_noAF_score', 'LIST-S2_score', 'ESM1b_score', 'AlphaMissense_score',\n",
    "             'CADD_phred', 'DANN_score', 'Eigen-PC-raw_coding', 'GERP++_RS', 'GERP_91_mammals', 'phyloP100way_vertebrate', 'phyloP470way_mammalian',\n",
    "             'phyloP17way_primate', 'phastCons100way_vertebrate', 'phastCons470way_mammalian', 'phastCons17way_primate', 'bStatistic']\n",
    "\n",
    "column_list = ['#Chr', 'Start', 'End', 'Ref', 'Alt'] + tool_list\n",
    "\n",
    "def process_and_convert_column(col):\n",
    "    def process_cell(cell):\n",
    "        try:\n",
    "            return float(cell)\n",
    "        except:\n",
    "            pass\n",
    "\n",
    "        if isinstance(cell, str) and \";\" in cell:\n",
    "            try:\n",
    "                values = [float(x) for x in cell.split(\";\") if x != '.' and x != '']\n",
    "                if values:\n",
    "                    return sum(values) / len(values)\n",
    "            except:\n",
    "                pass\n",
    "        return \".\"\n",
    "    return col.apply(process_cell)\n",
    "\n",
    "\n",
    "for chr_num in chromosomes:\n",
    "    print('Chromosome',chr_num,'start')\n",
    "    for ver in ['hg38', 'hg19']:\n",
    "        chromosome_df = pd.read_csv(f\"/gpfs/home/pl2948/VariantInterpretation/dbNSFP/{ver}_missense_dbNSFP_chr{chr_num}.csv\", sep='\\t', low_memory=False)\n",
    "        chromosome_df = chromosome_df[column_list]\n",
    "        # display(chromosome_df)\n",
    "        chromosome_df[tool_list] = chromosome_df[tool_list].progress_apply(process_and_convert_column)\n",
    "        chromosome_df.to_csv(f\"/gpfs/home/pl2948/VariantInterpretation/P_KNN_input/{ver}_missense_dbNSFP_chr{chr_num}.csv\", index=False)\n",
    "        display(chromosome_df)\n",
    "        print(ver, 'complete')"
   ]
  },
  {
   "cell_type": "markdown",
   "id": "51cf9cfb-3011-4d3a-8219-c7f9a0a9aaee",
   "metadata": {},
   "source": [
    "# Missense VUS in ClinVar dbNSFP5.1"
   ]
  },
  {
   "cell_type": "code",
   "execution_count": null,
   "id": "4d07fa28-980e-4190-92c8-b0537724e355",
   "metadata": {},
   "outputs": [],
   "source": [
    "import pandas as pd\n",
    "\n",
    "pathogenic_count = 0\n",
    "benign_count = 0\n",
    "\n",
    "chromosomes = list(range(1, 23)) + ['X', 'Y']\n",
    "pathogenic = ['Pathogenic', 'Likely_pathogenic', 'Pathogenic/Likely_pathogenic']\n",
    "benign = ['Benign', 'Likely_benign', 'Benign/Likely_benign']\n",
    "clinvar_annotation = pathogenic + benign + ['Uncertain_significance']\n",
    "\n",
    "clinvar_dbNSFP = pd.DataFrame()\n",
    "\n",
    "for chr in chromosomes:\n",
    "    file_path = f'/gpfs/home/pl2948/VariantInterpretation/dbNSFP/dbNSFP5.1a_variant.chr{chr}.gz'\n",
    "    df = pd.read_csv(file_path, compression='gzip', sep='\\t', low_memory=False)\n",
    "    \n",
    "    chr_benign = df['clinvar_clnsig'].isin(benign).sum()\n",
    "    chr_pathogenic = df['clinvar_clnsig'].isin(pathogenic).sum()\n",
    "    print(f'Chr: {chr:<10}, Benign: {chr_benign:<10}, Pathogenic: {chr_pathogenic:<10}')\n",
    "    \n",
    "    benign_count += chr_benign\n",
    "    pathogenic_count += chr_pathogenic\n",
    "    \n",
    "    relevant_data = df[df['clinvar_clnsig'].isin(clinvar_annotation)]\n",
    "    clinvar_dbNSFP = pd.concat([clinvar_dbNSFP, relevant_data], ignore_index=True)\n",
    "\n",
    "print(f'Total: Benign: {benign_count:<10}, Pathogenic: {pathogenic_count:<10}')\n",
    "\n",
    "display(clinvar_dbNSFP)"
   ]
  },
  {
   "cell_type": "code",
   "execution_count": null,
   "id": "c8d7125e-ed2d-4b6a-9748-4e9b89380cbf",
   "metadata": {},
   "outputs": [],
   "source": [
    "clinvar_dbNSFP.to_csv(\"/gpfs/home/pl2948/VariantInterpretation/ClinVarBenchmark/Clinvar_dbNSFP51a.csv.gz\", \n",
    "                      index=False, compression='gzip')"
   ]
  },
  {
   "cell_type": "markdown",
   "id": "6912b43f-80ba-4ace-8eaa-a8dcee789d63",
   "metadata": {},
   "source": [
    "## Filter missense VUS"
   ]
  },
  {
   "cell_type": "code",
   "execution_count": null,
   "id": "4a4332a7-7699-409b-ac3b-ac902d56dabc",
   "metadata": {},
   "outputs": [],
   "source": [
    "import pandas as pd\n",
    "\n",
    "clinvar_dbNSFP = pd.read_csv(\"/gpfs/home/pl2948/VariantInterpretation/ClinVarBenchmark/Clinvar_dbNSFP51a.csv.gz\", \n",
    "                            compression='gzip', low_memory=False)\n",
    "\n",
    "display(clinvar_dbNSFP)"
   ]
  },
  {
   "cell_type": "code",
   "execution_count": null,
   "id": "10177096-2038-4120-afb5-a3645630e51a",
   "metadata": {
    "scrolled": true
   },
   "outputs": [],
   "source": [
    "for i in range(49): \n",
    "    print(clinvar_dbNSFP.columns[i*10:i*10+10])"
   ]
  },
  {
   "cell_type": "code",
   "execution_count": null,
   "id": "beb82b8f-8663-4659-ba43-9896110c67e6",
   "metadata": {},
   "outputs": [],
   "source": [
    "columns_to_keep = ['#chr', 'pos(1-based)', 'ref', 'alt', 'aaref', 'aaalt', 'rs_dbSNP', 'hg19_chr', 'hg19_pos(1-based)',\n",
    "                   'aapos', 'genename', 'Ensembl_geneid', 'Ensembl_transcriptid', 'Ensembl_proteinid', 'MANE', \n",
    "                   'clinvar_id', 'clinvar_clnsig', 'clinvar_review',\n",
    "                   'SIFT_score', 'fathmm-XF_coding_score', 'VEST4_score', 'REVEL_score', \n",
    "                   'GERP++_RS', 'phyloP100way_vertebrate', 'BayesDel_noAF_score', \n",
    "                   'Polyphen2_HVAR_score', 'MPC_score', 'PrimateAI_score', 'gnomAD2.1.1_exomes_controls_AF']"
   ]
  },
  {
   "cell_type": "code",
   "execution_count": null,
   "id": "3abb9f63-05d6-4264-af68-007adffe7e6e",
   "metadata": {},
   "outputs": [],
   "source": [
    "clinvar_dbNSFP_VUS = clinvar_dbNSFP[columns_to_keep]\n",
    "\n",
    "clinvar_dbNSFP_VUS = clinvar_dbNSFP_VUS[clinvar_dbNSFP_VUS['clinvar_clnsig']=='Uncertain_significance']\n",
    "print('VUS', len(clinvar_dbNSFP_VUS))\n",
    "\n",
    "# remove splice\n",
    "clinvar_dbNSFP_VUS = clinvar_dbNSFP_VUS[(clinvar_dbNSFP_VUS['aaalt']!='.') & (clinvar_dbNSFP_VUS['aaref']!='.')]\n",
    "print('VUS, exclude splice', len(clinvar_dbNSFP_VUS))\n",
    "\n",
    "# remove nonsense\n",
    "clinvar_dbNSFP_VUS = clinvar_dbNSFP_VUS[(clinvar_dbNSFP_VUS['aaalt']!='X') | (clinvar_dbNSFP_VUS['aaref']!='X')]\n",
    "print('VUS, exclude splice, exclude nonsense', len(clinvar_dbNSFP_VUS))\n",
    "\n",
    "# remove synonymous\n",
    "clinvar_dbNSFP_VUS = clinvar_dbNSFP_VUS[(clinvar_dbNSFP_VUS[\"aaref\"] != clinvar_dbNSFP_VUS[\"aaalt\"])]\n",
    "print('VUS, exclude splice, exclude nonsense, exclude synomymous', len(clinvar_dbNSFP_VUS))"
   ]
  },
  {
   "cell_type": "code",
   "execution_count": null,
   "id": "78ffba6c-3be2-4069-ae19-ae75dc59ccd6",
   "metadata": {},
   "outputs": [],
   "source": [
    "clinvar_dbNSFP_VUS.to_csv(\"/gpfs/home/pl2948/VariantInterpretation/ClinVarBenchmark/Clinvar_dbNSFP51a_VUS.csv.gz\", \n",
    "                      index=False, compression='gzip')"
   ]
  },
  {
   "cell_type": "markdown",
   "id": "f67d254e-0ea6-4bf3-a2a6-310c732c51e4",
   "metadata": {},
   "source": [
    "## Validate with ClinVar"
   ]
  },
  {
   "cell_type": "code",
   "execution_count": null,
   "id": "684309db-6d4b-4e3e-90ea-ad2d5f82c030",
   "metadata": {},
   "outputs": [],
   "source": [
    "import pandas as pd\n",
    "\n",
    "ClinVar_annotation = pd.read_csv('/gpfs/home/pl2948/VariantInterpretation/ClinVarBenchmark/AllClinVarBenchmark_202504.csv.gz', \n",
    "                                 compression='gzip')\n",
    "\n",
    "display(ClinVar_annotation)"
   ]
  },
  {
   "cell_type": "code",
   "execution_count": null,
   "id": "a68516ba-5346-411d-9141-2839653f9c24",
   "metadata": {},
   "outputs": [],
   "source": [
    "VUS_NSFP = set(clinvar_dbNSFP_VUS['clinvar_id'].unique().astype(int))\n",
    "\n",
    "VUS_clinvar = set(ClinVar_annotation[((ClinVar_annotation['ClinVarName_coding_sequence'] == 1) & \n",
    "                                      (ClinVar_annotation['ClinVar_annotation'].isin({2})))]['VariationID'].unique())"
   ]
  },
  {
   "cell_type": "code",
   "execution_count": null,
   "id": "7b18a52b-b0a6-4a73-a311-9c9052842e12",
   "metadata": {},
   "outputs": [],
   "source": [
    "print('VUS in NSFP', len(VUS_NSFP))\n",
    "print('VUS in NSFP, not in clinvar', len(VUS_NSFP - VUS_clinvar))\n",
    "print('VUS in clinvar, not in NSFP', len(VUS_clinvar - VUS_NSFP))\n",
    "\n",
    "# VUS_NSFP - VUS_clinvar\n",
    "# VUS_clinvar - VUS_NSFP"
   ]
  },
  {
   "cell_type": "raw",
   "id": "abdab882-41e3-4b06-b416-ebfbfc4fdf8b",
   "metadata": {},
   "source": [
    "VUS in NSFP, not in clinvar: conflict label in clinvar, initially reported noncoding \n",
    "VUS in clinvar, not in NSFP: new reported VUS variants, synonymous variants"
   ]
  },
  {
   "cell_type": "code",
   "execution_count": null,
   "id": "4ad6f103-7f07-4bac-8b72-3cfd3cf54ffc",
   "metadata": {},
   "outputs": [],
   "source": [
    "clinvar_dbNSFP_VUS = clinvar_dbNSFP_VUS[clinvar_dbNSFP_VUS['clinvar_id'].isin(VUS_clinvar)].reset_index(drop=True)\n",
    "clinvar_dbNSFP_VUS"
   ]
  },
  {
   "cell_type": "code",
   "execution_count": null,
   "id": "027d06a4-b72a-4b3d-9ad3-798d1bd57825",
   "metadata": {},
   "outputs": [],
   "source": [
    "clinvar_dbNSFP_VUS.to_csv(\"/gpfs/home/pl2948/VariantInterpretation/ClinVarBenchmark/Clinvar_dbNSFP51a_VUS.csv.gz\", \n",
    "                      index=False, compression='gzip')"
   ]
  },
  {
   "cell_type": "markdown",
   "id": "bb2c4382-c5ec-470d-8d7c-e8f1bbcaba7b",
   "metadata": {},
   "source": [
    "## Expand tuple column and select"
   ]
  },
  {
   "cell_type": "code",
   "execution_count": null,
   "id": "2fe330d6-f997-4317-b171-2f40899fdbfe",
   "metadata": {},
   "outputs": [],
   "source": [
    "count = 0\n",
    "tuple_column = []\n",
    "\n",
    "for i in range(len(clinvar_dbNSFP_VUS)):\n",
    "    for column, content in clinvar_dbNSFP_VUS.iloc[i].items():\n",
    "        if ';' in str(content):\n",
    "            print(f\"{column:<20}{content}\")\n",
    "            tuple_column.append(column)\n",
    "            count +=1\n",
    "    if count!=0: break\n",
    "\n",
    "print(count)\n",
    "print(tuple_column)"
   ]
  },
  {
   "cell_type": "code",
   "execution_count": null,
   "id": "dcbfa681-6804-4f61-ba8e-e0f511dab9e7",
   "metadata": {},
   "outputs": [],
   "source": [
    "for col in tuple_column:\n",
    "    clinvar_dbNSFP_VUS[col] = clinvar_dbNSFP_VUS[col].apply(\n",
    "        lambda x: tuple(x.split(';')) if isinstance(x, str) and ';' in x else (x,))\n",
    "\n",
    "display(clinvar_dbNSFP_VUS)"
   ]
  },
  {
   "cell_type": "code",
   "execution_count": null,
   "id": "11753e4a-89c4-454b-aa8d-c60fd7a824c2",
   "metadata": {},
   "outputs": [],
   "source": [
    "import ast\n",
    "\n",
    "def convert_to_tuple(value):\n",
    "    try:\n",
    "        return tuple(ast.literal_eval(value))\n",
    "    except (ValueError, SyntaxError):\n",
    "        return value\n",
    "\n",
    "for col in tuple_column:\n",
    "    clinvar_dbNSFP_VUS[col] = clinvar_dbNSFP_VUS[col].apply(lambda x: convert_to_tuple(x) if pd.notna(x) else x)\n",
    "\n",
    "clinvar_dbNSFP_VUS = clinvar_dbNSFP_VUS.reset_index(drop=True)\n",
    "display(clinvar_dbNSFP_VUS)"
   ]
  },
  {
   "cell_type": "code",
   "execution_count": null,
   "id": "f8fca4cd-2a9c-4338-82e4-e3e3d2809d81",
   "metadata": {},
   "outputs": [],
   "source": [
    "from tqdm import tqdm\n",
    "\n",
    "row_lengths = clinvar_dbNSFP_VUS[tuple_column].apply(lambda col: col.map(len)).max(axis=1).tolist()\n",
    "\n",
    "expanded_rows = []\n",
    "\n",
    "for idx, row in tqdm(clinvar_dbNSFP_VUS.iterrows(), total=len(clinvar_dbNSFP_VUS), desc=\"Processing Rows\"):\n",
    "    length = row_lengths[idx]\n",
    "    for i in range(length):\n",
    "        new_row = row.copy()\n",
    "        for col in tuple_column:\n",
    "            new_row[col] = row[col][i] if i < len(row[col]) else None\n",
    "        expanded_rows.append(new_row)\n",
    "\n",
    "expanded_clinvar_dbNSFP_VUS = pd.DataFrame(expanded_rows)\n",
    "\n",
    "display(expanded_clinvar_dbNSFP_VUS)"
   ]
  },
  {
   "cell_type": "code",
   "execution_count": null,
   "id": "f0fb1c3b-6bac-41e1-ae6f-88fba50e251b",
   "metadata": {},
   "outputs": [],
   "source": [
    "import pandas as pd\n",
    "\n",
    "expanded_clinvar_dbNSFP_VUS.to_csv(\"/gpfs/home/pl2948/VariantInterpretation/ClinVarBenchmark/Clinvar_dbNSFP51a_VUS.csv.gz\", \n",
    "                      index=False, compression='gzip')"
   ]
  },
  {
   "cell_type": "code",
   "execution_count": null,
   "id": "52f8d671-658b-483e-88a5-37a3d9b9ff6e",
   "metadata": {},
   "outputs": [],
   "source": [
    "import pandas as pd\n",
    "expanded_clinvar_dbNSFP_VUS = pd.read_csv(\"/gpfs/home/pl2948/VariantInterpretation/ClinVarBenchmark/Clinvar_dbNSFP51a_VUS.csv.gz\", \n",
    "                      compression='gzip')\n",
    "expanded_clinvar_dbNSFP_VUS"
   ]
  },
  {
   "cell_type": "code",
   "execution_count": null,
   "id": "0300d565-db98-44ab-afcd-bf1dcf52b8e3",
   "metadata": {},
   "outputs": [],
   "source": [
    "print('select', sum(expanded_clinvar_dbNSFP_VUS['MANE'] == 'Select'))\n",
    "print('plus clinical',  sum(expanded_clinvar_dbNSFP_VUS['MANE'] == 'Plus_Clinical'))"
   ]
  },
  {
   "cell_type": "code",
   "execution_count": null,
   "id": "32da2888-cb6a-466b-b2da-f17c800b00d3",
   "metadata": {},
   "outputs": [],
   "source": [
    "import pandas as pd\n",
    "from tqdm import tqdm\n",
    "\n",
    "select_column = ['SIFT_score', 'fathmm-XF_coding_score', 'VEST4_score', 'REVEL_score', \n",
    "                 'GERP++_RS', 'phyloP100way_vertebrate', 'BayesDel_noAF_score', \n",
    "                 'Polyphen2_HVAR_score', 'MPC_score', 'PrimateAI_score',\n",
    "                ]\n",
    "\n",
    "expanded_clinvar_dbNSFP_VUS['dot_count'] = expanded_clinvar_dbNSFP_VUS[select_column].apply(lambda row: row.tolist().count('.'), axis=1)\n",
    "\n",
    "def select_row(group):\n",
    "    min_dot_count = group['dot_count'].min()\n",
    "    candidates = group[group['dot_count'] == min_dot_count]\n",
    "    \n",
    "    if len(candidates) == 1:\n",
    "        return candidates.iloc[0]\n",
    "\n",
    "    mane_select = candidates[candidates['MANE'] == 'Select']\n",
    "    if not mane_select.empty:\n",
    "        return mane_select.iloc[0]\n",
    "    \n",
    "    plus_clinical_select = candidates[candidates['MANE'] == 'Plus_Clinical']\n",
    "    if not plus_clinical_select.empty:\n",
    "        return plus_clinical_select.iloc[0]\n",
    "    \n",
    "    return candidates.iloc[0]\n",
    "    \n",
    "tqdm.pandas(desc=\"Processing Rows\")\n",
    "result = expanded_clinvar_dbNSFP_VUS.groupby('clinvar_id').progress_apply(select_row).reset_index(drop=True)\n",
    "\n",
    "display(result)"
   ]
  },
  {
   "cell_type": "code",
   "execution_count": null,
   "id": "e2a12e2f-ad3d-441f-aa96-5225b128afce",
   "metadata": {},
   "outputs": [],
   "source": [
    "result.to_csv(\"/gpfs/home/pl2948/VariantInterpretation/ClinVarBenchmark/Clinvar_dbNSFP51a_VUS.csv\", \n",
    "                index=False)"
   ]
  },
  {
   "cell_type": "markdown",
   "id": "f9ece11a-60fd-4a39-a5c2-e81155d4fccb",
   "metadata": {},
   "source": [
    "## Prepare for annovar"
   ]
  },
  {
   "cell_type": "code",
   "execution_count": null,
   "id": "486e7f73-a403-49ab-ac1f-a36c594ce5ca",
   "metadata": {},
   "outputs": [],
   "source": [
    "annovar_df = result[['hg19_chr', 'hg19_pos(1-based)', 'ref', 'alt']]\n",
    "annovar_df.columns = ['Chr', 'Start', 'Ref', 'Alt']\n",
    "annovar_df['End'] = annovar_df['Start']\n",
    "annovar_df = annovar_df[['Chr', 'Start', 'End', 'Ref', 'Alt']]\n",
    "annovar_df"
   ]
  },
  {
   "cell_type": "code",
   "execution_count": null,
   "id": "50071add-1ec0-43b1-863f-e1c1aefeeaef",
   "metadata": {},
   "outputs": [],
   "source": [
    "annovar_df.to_csv('/gpfs/home/pl2948/VariantInterpretation/Data/dbNSFP_VUS.avinput', \n",
    "                  sep='\\t', \n",
    "                  index=False, header=False)"
   ]
  },
  {
   "cell_type": "code",
   "execution_count": null,
   "id": "7590b89b-e98a-44c2-8f00-a8aba4921fc9",
   "metadata": {},
   "outputs": [],
   "source": [
    "import pandas as pd\n",
    "VUS_CADD = pd.read_csv(\"/gpfs/home/pl2948/VariantInterpretation/Data/dbNSFP_VUS_dbnsfp42a.hg19_multianno.csv\")\n",
    "VUS_CADD"
   ]
  },
  {
   "cell_type": "code",
   "execution_count": null,
   "id": "791667ce-1231-4892-975a-29455251cc78",
   "metadata": {},
   "outputs": [],
   "source": [
    "result['CADDv1.6_PHRED'] = VUS_CADD['CADD_phred'].values\n",
    "result['FATHMM_score'] = VUS_CADD['FATHMM_score'].values\n",
    "\n",
    "result = result.drop(columns=['dot_count'])\n",
    "result = result.drop(columns=['fathmm-XF_coding_score'])\n",
    "\n",
    "result"
   ]
  },
  {
   "cell_type": "markdown",
   "id": "ee250313-37d9-4a39-b870-93098a25ca05",
   "metadata": {},
   "source": [
    "## Exclude zero star and AF >= 0.01"
   ]
  },
  {
   "cell_type": "code",
   "execution_count": null,
   "id": "b08a7113-a00d-4641-b5f1-de3bc64505d3",
   "metadata": {},
   "outputs": [],
   "source": [
    "result['gnomAD2.1.1_exomes_controls_AF'].replace('.', 0).astype(float).unique()"
   ]
  },
  {
   "cell_type": "code",
   "execution_count": null,
   "id": "33b35920-448d-4534-93d2-480abc1879ff",
   "metadata": {},
   "outputs": [],
   "source": [
    "import numpy as np\n",
    "\n",
    "# Use only pathogenic and benign annotation \n",
    "REVIEW_STATUS_TO_GOLD_STARS = {\n",
    "    'criteria_provided,_single_submitter': 1,\n",
    "    'criteria_provided,_multiple_submitters,_no_conflicts': 2,\n",
    "    'no_assertion_criteria_provided': np.nan,\n",
    "    'reviewed_by_expert_panel': 3\n",
    "    }\n",
    "\n",
    "result['gold_stars'] = result['clinvar_review'].map(REVIEW_STATUS_TO_GOLD_STARS)\n",
    "print(len(result))\n",
    "result = result[result['gold_stars']>=1]\n",
    "print(len(result))\n",
    "result['gnomAD2.1.1_exomes_controls_AF'] = result['gnomAD2.1.1_exomes_controls_AF'].replace('.', 0).astype(float)\n",
    "result = result[result['gnomAD2.1.1_exomes_controls_AF']<0.01].reset_index(drop=True)\n",
    "print(len(result))"
   ]
  },
  {
   "cell_type": "code",
   "execution_count": null,
   "id": "f0e6c8ec-f542-4d0f-bdc6-638ef6ac52a9",
   "metadata": {},
   "outputs": [],
   "source": [
    "result.to_csv(\"/gpfs/home/pl2948/VariantInterpretation/ClinVarBenchmark/Clinvar_dbNSFP51a_VUS.csv\", \n",
    "                index=False)"
   ]
  },
  {
   "cell_type": "code",
   "execution_count": null,
   "id": "620d8acb-680d-4d1f-bf8c-f784ffa6e12c",
   "metadata": {},
   "outputs": [],
   "source": [
    "import pandas as pd\n",
    "gnomAD_AF = pd.read_csv(\"/gpfs/home/pl2948/VariantInterpretation/Data/ClinVar2025_gnomAD.hg38_multianno.csv\")\n",
    "gnomAD_AF"
   ]
  },
  {
   "cell_type": "code",
   "execution_count": null,
   "id": "1fb945cb-a9db-44e7-b504-2a41233df587",
   "metadata": {},
   "outputs": [],
   "source": [
    "ClinVar2025['gnomAD_AF'] = gnomAD_AF['controls_AF_popmax']\n",
    "ClinVar2025"
   ]
  },
  {
   "cell_type": "code",
   "execution_count": null,
   "id": "475239cc-75e4-4bae-bda7-249a9fd15f89",
   "metadata": {},
   "outputs": [],
   "source": [
    "print('origin', len(ClinVar2025))\n",
    "\n",
    "# Remove 0 star\n",
    "ClinVar2025 = ClinVar2025[ClinVar2025['ClinVar_annotation'].isin([1. , 1.1, 0. , 0.1])].reset_index(drop=True)\n",
    "print('remove 0 star', len(ClinVar2025))\n",
    "\n",
    "# Remove all benign\n",
    "ClinVar2025 = ClinVar2025.groupby('GeneSymbol').filter(lambda x: not all(x['ClinVar_annotation'] == 0))\n",
    "print('remove all benign', len(ClinVar2025))\n",
    "\n",
    "# Remove AF > 0.01\n",
    "ClinVar2025['gnomAD_AF'] = ClinVar2025['gnomAD_AF'].replace('.', 0).astype(float)\n",
    "ClinVar2025 = ClinVar2025[ClinVar2025['gnomAD_AF']<0.01].reset_index(drop=True)\n",
    "print('remove AF > 0.01', len(ClinVar2025))\n",
    "\n",
    "display(ClinVar2025)"
   ]
  },
  {
   "cell_type": "code",
   "execution_count": null,
   "id": "b96dfa9f-2c19-44b1-89c1-2d937329c7f1",
   "metadata": {},
   "outputs": [],
   "source": [
    "new_set = set(ClinVar2025['VariationID']) - set(ClinVar2020['VariationID'])\n",
    "len(new_set)"
   ]
  },
  {
   "cell_type": "code",
   "execution_count": null,
   "id": "e03ca620-54d2-4724-9dd5-b82259e9f9b5",
   "metadata": {},
   "outputs": [],
   "source": [
    "import pandas as pd\n",
    "\n",
    "ClinVar_2019 = pd.read_csv(\"/gpfs/home/pl2948/VariantInterpretation/Data/ClinVar2019Set.csv\")\n",
    "ClinVar_2019"
   ]
  },
  {
   "cell_type": "code",
   "execution_count": null,
   "id": "f7407853-a6b2-4b28-907d-351a58c08f71",
   "metadata": {},
   "outputs": [],
   "source": [
    "import pandas as pd\n",
    "\n",
    "filtered_rows = ClinVar2025[(ClinVar2025['VariationID'].isin(new_set))].reset_index(drop=True)\n",
    "print(filtered_rows.shape) # Duplication is related to X and Y"
   ]
  },
  {
   "cell_type": "code",
   "execution_count": null,
   "id": "2a9f46c0-59dc-437f-8cef-ab2055120cd7",
   "metadata": {},
   "outputs": [],
   "source": [
    "filtered_rows.to_csv(\"/gpfs/home/pl2948/VariantInterpretation/ClinVarBenchmark/Clinvar_2025-2020_PBLPB.csv\", \n",
    "                      index=False)"
   ]
  },
  {
   "cell_type": "markdown",
   "id": "bf62ac53-b8c6-4258-97b7-f79c058c774f",
   "metadata": {},
   "source": [
    "# Calibrate ESM1b and DMS"
   ]
  },
  {
   "cell_type": "code",
   "execution_count": null,
   "id": "478d7982-d0f3-4b74-b42d-0d280bcc8e25",
   "metadata": {},
   "outputs": [],
   "source": [
    "import pandas as pd\n",
    "\n",
    "ClinVar2025 = pd.read_csv(\"/gpfs/home/pl2948/VariantInterpretation/ClinVarBenchmark/AllClinVarBenchmark_202504.csv.gz\", \n",
    "                                 compression='gzip')\n",
    "\n",
    "display(ClinVar2025)"
   ]
  },
  {
   "cell_type": "code",
   "execution_count": null,
   "id": "b5c6d257-2ed9-4a1c-af05-f5d6fe51d890",
   "metadata": {},
   "outputs": [],
   "source": [
    "import pandas as pd\n",
    "gnomAD_AF = pd.read_csv(\"/gpfs/home/pl2948/VariantInterpretation/Data/ClinVar2025_gnomAD.hg38_multianno.csv\")\n",
    "ClinVar2025['gnomAD_AF'] = gnomAD_AF['controls_AF_popmax']\n",
    "gnomAD_AF"
   ]
  },
  {
   "cell_type": "code",
   "execution_count": null,
   "id": "0b0ec009-af2e-4b3b-bf54-95b6475b1d7f",
   "metadata": {},
   "outputs": [],
   "source": [
    "amino_acid = ['G', 'Q', 'N', 'I', 'V', 'R', 'E', 'A', 'C', 'W', 'D', 'F', 'K', 'P', 'M', 'L', 'Y', 'T', 'H', 'S']\n",
    "filtered_ClinVar2025 = ClinVar2025[((ClinVar2025['ClinVarName_start_aa'].isin(amino_acid)) & \n",
    "                               (ClinVar2025['ClinVarName_alt'].isin(amino_acid)))].reset_index(drop=True)\n",
    "\n",
    "filtered_ClinVar2025[\"ClinVar_category\"] = filtered_ClinVar2025[\"ClinVar_annotation\"].apply(lambda x: \"Benign\" if x in [0, 0.1] else (\"Pathogenic\" if x in [1, 1.1] else \"other\"))\n",
    "\n",
    "print(len(filtered_ClinVar2025))\n",
    "display(filtered_ClinVar2025)"
   ]
  },
  {
   "cell_type": "code",
   "execution_count": null,
   "id": "1d1348f1-555f-4e2d-b872-11dc141c03c5",
   "metadata": {},
   "outputs": [],
   "source": [
    "print('origin', len(filtered_ClinVar2025))\n",
    "\n",
    "# Remove 0 star\n",
    "filtered_ClinVar2025 = filtered_ClinVar2025[filtered_ClinVar2025['ClinVar_annotation'].isin([1. , 1.1, 0. , 0.1])].reset_index(drop=True)\n",
    "print('remove 0 star', len(filtered_ClinVar2025))\n",
    "\n",
    "# Remove all benign\n",
    "filtered_ClinVar2025 = filtered_ClinVar2025.groupby('GeneSymbol').filter(lambda x: not all(x['ClinVar_annotation'] == 0))\n",
    "print('remove all benign', len(filtered_ClinVar2025))\n",
    "\n",
    "# Remove AF > 0.01\n",
    "filtered_ClinVar2025['gnomAD_AF'] = filtered_ClinVar2025['gnomAD_AF'].replace('.', 0).astype(float)\n",
    "filtered_ClinVar2025 = filtered_ClinVar2025[filtered_ClinVar2025['gnomAD_AF']<0.01].reset_index(drop=True)\n",
    "print('remove AF > 0.01', len(filtered_ClinVar2025))\n",
    "\n",
    "display(filtered_ClinVar2025)"
   ]
  },
  {
   "cell_type": "code",
   "execution_count": null,
   "id": "6e125e16-571a-493b-8297-5f757fb6095f",
   "metadata": {},
   "outputs": [],
   "source": [
    "i = 100\n",
    "grouped_summary = filtered_ClinVar2025.groupby(\"GeneSymbol\")[\"ClinVar_category\"].value_counts().unstack(fill_value=0)\n",
    "grouped_summary[\"Total\"] = grouped_summary.sum(axis=1)\n",
    "\n",
    "grouped_summary[(grouped_summary['Benign']>i) & (grouped_summary['Pathogenic']>i)]\n",
    "\n",
    "sorted_summary = grouped_summary[(grouped_summary['Benign']>i) & (grouped_summary['Pathogenic']>i)].sort_values(by=\"Total\", ascending=False)\n",
    "sorted_summary"
   ]
  },
  {
   "cell_type": "markdown",
   "id": "9cc0785d-24c0-4d99-a80b-b9b6d9784a48",
   "metadata": {},
   "source": [
    "## TP53"
   ]
  },
  {
   "cell_type": "code",
   "execution_count": null,
   "id": "55e11ee5-4d0b-49b3-b0ea-ec68cebd3b90",
   "metadata": {},
   "outputs": [],
   "source": [
    "TP53_ClinVar = filtered_ClinVar2025[((filtered_ClinVar2025['GeneSymbol']=='TP53'))].reset_index(drop=True)\n",
    "TP53_ClinVar"
   ]
  },
  {
   "cell_type": "markdown",
   "id": "a693d772-97cd-4f9f-832e-73962ff8a4ef",
   "metadata": {},
   "source": [
    "### Add ESM"
   ]
  },
  {
   "cell_type": "code",
   "execution_count": null,
   "id": "8804d1a1-ad4f-418b-bb14-a3c3af724a81",
   "metadata": {},
   "outputs": [],
   "source": [
    "import pandas as pd\n",
    "\n",
    "file_path = \"/gpfs/data/brandeslab/Project/esm_scores/refseq_esm_scores/TP53.csv\"\n",
    "column_names = [\"Template\", \"AA_POS\", \"AA_ALT\", \"AA_Change\", \"ESM1b_score\"]\n",
    "\n",
    "TP53_ESM = pd.read_csv(file_path, names=column_names, header=None)\n",
    "\n",
    "display(TP53_ESM)"
   ]
  },
  {
   "cell_type": "code",
   "execution_count": null,
   "id": "7fa44e3c-6102-4f43-9582-d69556d61b5b",
   "metadata": {},
   "outputs": [],
   "source": [
    "import pandas as pd\n",
    "import numpy as np\n",
    "\n",
    "def add_ESM_score(ClinVar: pd.DataFrame, ESM: pd.DataFrame) -> pd.DataFrame:\n",
    "    ClinVar['ESM1b_score'] = None\n",
    "    AA_Change_list = list(ESM['AA_Change'].unique())\n",
    "    count = 0\n",
    "    \n",
    "    for idx, row in ClinVar.iterrows():\n",
    "        AA_Change = f\"{row['ClinVarName_start_aa']}{int(row['ClinVarName_start_pos'])}{row['ClinVarName_alt']}\"\n",
    "        if AA_Change not in AA_Change_list: \n",
    "            continue\n",
    "        count +=1\n",
    "        ClinVar.loc[idx, 'ESM1b_score'] = ESM[ESM['AA_Change']==AA_Change].iloc[0]['ESM1b_score']\n",
    "    print(count)\n",
    "    return ClinVar"
   ]
  },
  {
   "cell_type": "code",
   "execution_count": null,
   "id": "3d381698-b3da-41ea-8cda-a0b592ed32bd",
   "metadata": {},
   "outputs": [],
   "source": [
    "TP53_ClinVar = add_ESM_score(TP53_ClinVar, TP53_ESM)\n",
    "TP53_ClinVar"
   ]
  },
  {
   "cell_type": "markdown",
   "id": "cca762a5-162f-489d-a691-38dd8b734649",
   "metadata": {},
   "source": [
    "### Add MAVEs"
   ]
  },
  {
   "cell_type": "code",
   "execution_count": null,
   "id": "5e68813a-0176-47b8-8a59-7b14acf2f7fe",
   "metadata": {
    "scrolled": true
   },
   "outputs": [],
   "source": [
    "import os\n",
    "import pandas as pd\n",
    "\n",
    "folder_path = \"/gpfs/home/pl2948/VariantInterpretation/Data/TP53\"\n",
    "csv_dict = {}\n",
    "\n",
    "for filename in os.listdir(folder_path):\n",
    "    if filename.endswith(\".csv\"):\n",
    "        key = filename[:-4] \n",
    "        file_path = os.path.join(folder_path, filename)\n",
    "        df = pd.read_csv(file_path)\n",
    "        csv_dict[key] = df\n",
    "        print(key)\n",
    "        display(csv_dict[key])"
   ]
  },
  {
   "cell_type": "code",
   "execution_count": null,
   "id": "1878fc85-cdaf-44f7-b488-6eb1df7f5e96",
   "metadata": {},
   "outputs": [],
   "source": [
    "transcript_aa_change_dict = {}\n",
    "count_dict = {}\n",
    "\n",
    "for key in csv_dict.keys():\n",
    "    TP53_ClinVar[key] = None\n",
    "    count_dict[key] = 0\n",
    "    if key=='urn_mavedb_00001213-a-1_scores':\n",
    "        transcript_aa_change_dict[key] = csv_dict['urn_mavedb_00001213-a-1_scores']['HGVS(protein)'].str.split(':').str.get(1).tolist()\n",
    "    else:\n",
    "        transcript_aa_change_dict[key] = csv_dict[key]['hgvs_pro'].unique()\n",
    "\n",
    "for idx, row in TP53_ClinVar.iterrows():\n",
    "    aa_change = f\"p.{row['ClinVarName_raw_protein_change']}\"\n",
    "\n",
    "    for key in csv_dict.keys(): \n",
    "        if aa_change in transcript_aa_change_dict[key]:\n",
    "            MAVE = csv_dict[key]\n",
    "            count_dict[key]+=1\n",
    "            if key=='urn_mavedb_00001213-a-1_scores':\n",
    "                TP53_ClinVar.loc[idx, key] = MAVE[MAVE['HGVS(protein)'].str.contains(aa_change)].iloc[0, 7] \n",
    "            else:\n",
    "                TP53_ClinVar.loc[idx, key] = MAVE[MAVE['hgvs_pro']==aa_change].iloc[0, 2] \n",
    "                \n",
    "print(count_dict)\n",
    "display(TP53_ClinVar)"
   ]
  },
  {
   "cell_type": "code",
   "execution_count": null,
   "id": "d9fadd41-0807-4ab4-8283-14133ae8c10f",
   "metadata": {},
   "outputs": [],
   "source": [
    "TP53_ClinVar.to_csv(\"/gpfs/home/pl2948/VariantInterpretation/Data/TP53_ESM_DMS.csv\", \n",
    "                        index=False)"
   ]
  },
  {
   "cell_type": "code",
   "execution_count": null,
   "id": "443ea1f9-09fd-4f39-87b1-5a5563942253",
   "metadata": {},
   "outputs": [],
   "source": [
    "import pandas as pd\n",
    "TP53_ClinVar = pd.read_csv(\"/gpfs/home/pl2948/VariantInterpretation/Data/TP53_ESM_DMS.csv\")\n",
    "TP53_ClinVar"
   ]
  },
  {
   "cell_type": "code",
   "execution_count": null,
   "id": "0582a600-88cb-43bf-a7ff-40c959f1b06c",
   "metadata": {},
   "outputs": [],
   "source": [
    "csv_dict = {'urn_mavedb_00000068-b-1_scores': 322, 'urn_mavedb_00001234-g-1_scores': 324, 'TP53_DNE_urn_mavedb_00001235-a-1_scores': 322, 'urn_mavedb_00001234-e-1_scores': 324, 'urn_mavedb_00001234-d-1_scores': 324, 'urn_mavedb_00001213-a-1_scores': 215, 'TP53_transcription_urn_mavedb_00001234-0-1_scores': 324, 'urn_mavedb_00001236-0-1_scores': 322, 'urn_mavedb_00001234-h-1_scores': 324, 'urn_mavedb_00000068-c-1_scores': 322, 'urn_mavedb_00001234-a-1_scores': 324, 'urn_mavedb_00001234-c-1_scores': 324, 'urn_mavedb_00001234-b-1_scores': 324, 'urn_mavedb_00001234-f-1_scores': 324, 'urn_mavedb_00000068-0-1_scores': 322, 'urn_mavedb_00000068-a-1_scores': 322}"
   ]
  },
  {
   "cell_type": "code",
   "execution_count": null,
   "id": "0e446036-fbae-4215-ad55-299a5a491571",
   "metadata": {},
   "outputs": [],
   "source": [
    "TP53_ClinVar[csv_dict.keys()].isna().sum()"
   ]
  },
  {
   "cell_type": "code",
   "execution_count": null,
   "id": "1417b6ca-bd8f-44d8-acf4-f55e5aecdc89",
   "metadata": {},
   "outputs": [],
   "source": [
    "import numpy as np\n",
    "import seaborn as sns\n",
    "import matplotlib.pyplot as plt\n",
    "\n",
    "columns_to_corr = list(csv_dict.keys())\n",
    "df_corr = TP53_ClinVar[columns_to_corr]\n",
    "\n",
    "corr_matrix = np.abs(df_corr.corr(method='pearson'))\n",
    "\n",
    "plt.figure(figsize=(10, 8))\n",
    "sns.heatmap(corr_matrix, annot=True, fmt=\".2f\", cmap=\"coolwarm\", square=True,\n",
    "            cbar_kws={\"shrink\": .75}, linewidths=0.5, linecolor='white')\n",
    "plt.title(\"Pearson Correlation Heatmap between MAVEs Scores\")\n",
    "plt.xticks(rotation=45, ha=\"right\")\n",
    "plt.tight_layout()\n",
    "plt.show()\n"
   ]
  }
 ],
 "metadata": {
  "kernelspec": {
   "display_name": "Python 3 (ipykernel)",
   "language": "python",
   "name": "python3"
  },
  "language_info": {
   "codemirror_mode": {
    "name": "ipython",
    "version": 3
   },
   "file_extension": ".py",
   "mimetype": "text/x-python",
   "name": "python",
   "nbconvert_exporter": "python",
   "pygments_lexer": "ipython3",
   "version": "3.9.21"
  }
 },
 "nbformat": 4,
 "nbformat_minor": 5
}
